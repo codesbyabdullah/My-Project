{
 "cells": [
  {
   "cell_type": "code",
   "execution_count": 1,
   "id": "f1c38c5c-8c80-4281-9664-efc74a621d8b",
   "metadata": {},
   "outputs": [
    {
     "name": "stdout",
     "output_type": "stream",
     "text": [
      "Model trained and saved as 'model.pkl'.\n"
     ]
    }
   ],
   "source": [
    "# Training and saving the model in Jupyter Notebook\n",
    "\n",
    "import numpy as np\n",
    "from sklearn.linear_model import LinearRegression\n",
    "import joblib\n",
    "\n",
    "# Example data (replace with your actual data)\n",
    "X = np.array([[1], [2], [3], [4], [5]]).reshape(-1, 1)\n",
    "y = np.array([1.5, 3.5, 5.5, 7.5, 9.5])\n",
    "\n",
    "# Train a simple linear regression model\n",
    "model = LinearRegression()\n",
    "model.fit(X, y)\n",
    "\n",
    "# Save the trained model as 'model.pkl'\n",
    "joblib.dump(model, 'model.pkl')\n",
    "print(\"Model trained and saved as 'model.pkl'.\")\n"
   ]
  },
  {
   "cell_type": "code",
   "execution_count": 2,
   "id": "e908b9f2-c8f2-4c19-86a0-a8fedd69b294",
   "metadata": {},
   "outputs": [
    {
     "ename": "UnpicklingError",
     "evalue": "invalid load key, '\\x0f'.",
     "output_type": "error",
     "traceback": [
      "\u001b[1;31m---------------------------------------------------------------------------\u001b[0m",
      "\u001b[1;31mUnpicklingError\u001b[0m                           Traceback (most recent call last)",
      "Cell \u001b[1;32mIn[2], line 15\u001b[0m\n\u001b[0;32m     13\u001b[0m \u001b[38;5;28;01mif\u001b[39;00m \u001b[38;5;129;01mnot\u001b[39;00m os\u001b[38;5;241m.\u001b[39mpath\u001b[38;5;241m.\u001b[39mexists(model_path):\n\u001b[0;32m     14\u001b[0m     \u001b[38;5;28;01mraise\u001b[39;00m \u001b[38;5;167;01mFileNotFoundError\u001b[39;00m(\u001b[38;5;124mf\u001b[39m\u001b[38;5;124m\"\u001b[39m\u001b[38;5;124mModel file \u001b[39m\u001b[38;5;124m'\u001b[39m\u001b[38;5;132;01m{\u001b[39;00mmodel_path\u001b[38;5;132;01m}\u001b[39;00m\u001b[38;5;124m'\u001b[39m\u001b[38;5;124m not found. Please ensure the file exists.\u001b[39m\u001b[38;5;124m\"\u001b[39m)\n\u001b[1;32m---> 15\u001b[0m model \u001b[38;5;241m=\u001b[39m pickle\u001b[38;5;241m.\u001b[39mload(\u001b[38;5;28mopen\u001b[39m(model_path, \u001b[38;5;124m'\u001b[39m\u001b[38;5;124mrb\u001b[39m\u001b[38;5;124m'\u001b[39m))\n\u001b[0;32m     17\u001b[0m \u001b[38;5;66;03m# HTML template for rendering\u001b[39;00m\n\u001b[0;32m     18\u001b[0m html_template \u001b[38;5;241m=\u001b[39m \u001b[38;5;124m\"\"\"\u001b[39m\n\u001b[0;32m     19\u001b[0m \u001b[38;5;124m<!DOCTYPE html>\u001b[39m\n\u001b[0;32m     20\u001b[0m \u001b[38;5;124m<html lang=\u001b[39m\u001b[38;5;124m\"\u001b[39m\u001b[38;5;124men\u001b[39m\u001b[38;5;124m\"\u001b[39m\u001b[38;5;124m>\u001b[39m\n\u001b[1;32m   (...)\u001b[0m\n\u001b[0;32m     33\u001b[0m \u001b[38;5;124m</html>\u001b[39m\n\u001b[0;32m     34\u001b[0m \u001b[38;5;124m\"\"\"\u001b[39m\n",
      "\u001b[1;31mUnpicklingError\u001b[0m: invalid load key, '\\x0f'."
     ]
    }
   ],
   "source": [
    "# Flask application code in the same Jupyter Notebook\n",
    "\n",
    "import numpy as np\n",
    "from flask import Flask, request, jsonify, render_template_string\n",
    "import pickle\n",
    "import os\n",
    "from threading import Thread\n",
    "\n",
    "app = Flask(__name__)\n",
    "\n",
    "# Load the model\n",
    "model_path = 'model.pkl'\n",
    "if not os.path.exists(model_path):\n",
    "    raise FileNotFoundError(f\"Model file '{model_path}' not found. Please ensure the file exists.\")\n",
    "model = pickle.load(open(model_path, 'rb'))\n",
    "\n",
    "# HTML template for rendering\n",
    "html_template = \"\"\"\n",
    "<!DOCTYPE html>\n",
    "<html lang=\"en\">\n",
    "<head>\n",
    "    <meta charset=\"UTF-8\">\n",
    "    <title>Weight Prediction</title>\n",
    "</head>\n",
    "<body>\n",
    "    <h2>Enter values to predict weight</h2>\n",
    "    <form action=\"/predict\" method=\"post\">\n",
    "        <input type=\"text\" name=\"feature1\" placeholder=\"Enter value\">\n",
    "        <input type=\"submit\" value=\"Predict\">\n",
    "    </form>\n",
    "    <h3>{{ prediction_text }}</h3>\n",
    "</body>\n",
    "</html>\n",
    "\"\"\"\n",
    "\n",
    "@app.route('/')\n",
    "def home():\n",
    "    return render_template_string(html_template)\n",
    "\n",
    "@app.route('/predict', methods=['POST'])\n",
    "def predict():\n",
    "    try:\n",
    "        # Collect input features from the form\n",
    "        int_features = [float(x) for x in request.form.values()]\n",
    "        final_features = [np.array(int_features)]\n",
    "        prediction = model.predict(final_features)\n",
    "\n",
    "        # Format the output\n",
    "        output = np.round(prediction[0], 2)\n",
    "\n",
    "        return render_template_string(html_template, prediction_text=f\"Weight prediction: {output} kg's\")\n",
    "    except Exception as e:\n",
    "        return render_template_string(html_template, prediction_text=f\"Error: {str(e)}\")\n",
    "\n",
    "@app.route('/results', methods=['POST'])\n",
    "def results():\n",
    "    try:\n",
    "        # Parse JSON request\n",
    "        data = request.get_json(force=True)\n",
    "        prediction = model.predict([np.array(list(data.values()))])\n",
    "\n",
    "        # Return the prediction as JSON\n",
    "        output = prediction[0]\n",
    "        return jsonify(output)\n",
    "    except Exception as e:\n",
    "        return jsonify({\"error\": str(e)}), 400\n",
    "\n",
    "def run_flask():\n",
    "    app.run(host='0.0.0.0', port=5000)\n",
    "\n",
    "# Start Flask in a separate thread\n",
    "flask_thread = Thread(target=run_flask)\n",
    "flask_thread.start()\n",
    "\n"
   ]
  },
  {
   "cell_type": "code",
   "execution_count": 3,
   "id": "b17b5d5d-6e25-4890-b246-e885dfdb1ae3",
   "metadata": {},
   "outputs": [
    {
     "name": "stdout",
     "output_type": "stream",
     "text": [
      "Model trained and saved as 'model.pkl'.\n"
     ]
    }
   ],
   "source": [
    "# Saving the model using joblib\n",
    "import joblib\n",
    "from sklearn.linear_model import LinearRegression\n",
    "import numpy as np\n",
    "\n",
    "# Example data for training\n",
    "X = np.array([[1], [2], [3], [4], [5]]).reshape(-1, 1)\n",
    "y = np.array([1.5, 3.5, 5.5, 7.5, 9.5])\n",
    "\n",
    "# Train the model\n",
    "model = LinearRegression()\n",
    "model.fit(X, y)\n",
    "\n",
    "# Save the model correctly as 'model.pkl' using joblib\n",
    "joblib.dump(model, 'model.pkl')\n",
    "print(\"Model trained and saved as 'model.pkl'.\")\n"
   ]
  },
  {
   "cell_type": "code",
   "execution_count": 4,
   "id": "4a2da440-fd17-4ffe-b85f-0bfcd7698e15",
   "metadata": {},
   "outputs": [],
   "source": [
    "# Load the model using joblib\n",
    "import joblib\n",
    "\n",
    "model = joblib.load('model.pkl')\n"
   ]
  },
  {
   "cell_type": "code",
   "execution_count": 5,
   "id": "2d94096e-a59c-4f17-86ae-cd292192924b",
   "metadata": {},
   "outputs": [
    {
     "name": "stdout",
     "output_type": "stream",
     "text": [
      " * Serving Flask app '__main__'\n",
      " * Debug mode: off\n"
     ]
    },
    {
     "name": "stderr",
     "output_type": "stream",
     "text": [
      "WARNING: This is a development server. Do not use it in a production deployment. Use a production WSGI server instead.\n",
      " * Running on all addresses (0.0.0.0)\n",
      " * Running on http://127.0.0.1:5000\n",
      " * Running on http://192.168.18.20:5000\n",
      "Press CTRL+C to quit\n"
     ]
    }
   ],
   "source": [
    "import numpy as np\n",
    "from flask import Flask, request, jsonify, render_template_string\n",
    "import joblib\n",
    "import os\n",
    "from threading import Thread\n",
    "\n",
    "app = Flask(__name__)\n",
    "\n",
    "# Load the model correctly using joblib\n",
    "model_path = 'model.pkl'\n",
    "if not os.path.exists(model_path):\n",
    "    raise FileNotFoundError(f\"Model file '{model_path}' not found. Please ensure the file exists.\")\n",
    "model = joblib.load(model_path)\n",
    "\n",
    "# HTML template for rendering\n",
    "html_template = \"\"\"\n",
    "<!DOCTYPE html>\n",
    "<html lang=\"en\">\n",
    "<head>\n",
    "    <meta charset=\"UTF-8\">\n",
    "    <title>Weight Prediction</title>\n",
    "</head>\n",
    "<body>\n",
    "    <h2>Enter values to predict weight</h2>\n",
    "    <form action=\"/predict\" method=\"post\">\n",
    "        <input type=\"text\" name=\"feature1\" placeholder=\"Enter value\">\n",
    "        <input type=\"submit\" value=\"Predict\">\n",
    "    </form>\n",
    "    <h3>{{ prediction_text }}</h3>\n",
    "</body>\n",
    "</html>\n",
    "\"\"\"\n",
    "\n",
    "@app.route('/')\n",
    "def home():\n",
    "    return render_template_string(html_template)\n",
    "\n",
    "@app.route('/predict', methods=['POST'])\n",
    "def predict():\n",
    "    try:\n",
    "        # Collect input features from the form\n",
    "        int_features = [float(x) for x in request.form.values()]\n",
    "        final_features = [np.array(int_features)]\n",
    "        prediction = model.predict(final_features)\n",
    "\n",
    "        # Format the output\n",
    "        output = np.round(prediction[0], 2)\n",
    "\n",
    "        return render_template_string(html_template, prediction_text=f\"Weight prediction: {output} kg's\")\n",
    "    except Exception as e:\n",
    "        return render_template_string(html_template, prediction_text=f\"Error: {str(e)}\")\n",
    "\n",
    "@app.route('/results', methods=['POST'])\n",
    "def results():\n",
    "    try:\n",
    "        # Parse JSON request\n",
    "        data = request.get_json(force=True)\n",
    "        prediction = model.predict([np.array(list(data.values()))])\n",
    "\n",
    "        # Return the prediction as JSON\n",
    "        output = prediction[0]\n",
    "        return jsonify(output)\n",
    "    except Exception as e:\n",
    "        return jsonify({\"error\": str(e)}), 400\n",
    "\n",
    "def run_flask():\n",
    "    app.run(host='0.0.0.0', port=5000)\n",
    "\n",
    "# Start Flask in a separate thread\n",
    "flask_thread = Thread(target=run_flask)\n",
    "flask_thread.start()\n"
   ]
  },
  {
   "cell_type": "code",
   "execution_count": null,
   "id": "c573dc1b-2918-4da9-b327-e46507f459d0",
   "metadata": {},
   "outputs": [],
   "source": []
  }
 ],
 "metadata": {
  "kernelspec": {
   "display_name": "Python 3 (ipykernel)",
   "language": "python",
   "name": "python3"
  },
  "language_info": {
   "codemirror_mode": {
    "name": "ipython",
    "version": 3
   },
   "file_extension": ".py",
   "mimetype": "text/x-python",
   "name": "python",
   "nbconvert_exporter": "python",
   "pygments_lexer": "ipython3",
   "version": "3.11.7"
  }
 },
 "nbformat": 4,
 "nbformat_minor": 5
}
